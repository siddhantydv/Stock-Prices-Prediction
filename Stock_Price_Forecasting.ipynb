# Stock Price Forecasting using ARIMA and GBM

import yfinance as yf
import pandas as pd
import numpy as np
import matplotlib.pyplot as plt
from statsmodels.tsa.stattools import adfuller, acf, pacf
from statsmodels.tsa.arima.model import ARIMA
from sklearn.metrics import mean_squared_error
from math import sqrt

# Fetch historical stock prices (e.g., Apple)
ticker = 'AAPL'
data = yf.download(ticker, start='2019-01-01', end='2024-12-31')
data = data['Adj Close']
data = data.dropna()

# Log transform
log_data = np.log(data)

# ADF Test
def adf_test(series):
    result = adfuller(series)
    return result[1]  # p-value

p_value = adf_test(log_data)
if p_value > 0.05:
    log_data_diff = log_data.diff().dropna()
else:
    log_data_diff = log_data

# ACF/PACF can be plotted here if needed

# Fit ARIMA
model_arima = ARIMA(log_data, order=(1,1,1))
model_arima_fit = model_arima.fit()
forecast_log = model_arima_fit.forecast(steps=15)
forecast_arima = np.exp(forecast_log)

# Simulate GBM paths
log_returns = np.log(data / data.shift(1)).dropna()
mu = log_returns.mean()
sigma = log_returns.std()

T = 15  # 15 days
N = 10000  # number of simulations
S0 = data[-1]

simulations = np.zeros((T, N))
for t in range(T):
    Z = np.random.standard_normal(N)
    simulations[t] = S0 * np.exp((mu - 0.5 * sigma**2) * (t+1) + sigma * np.sqrt(t+1) * Z)

forecast_gbm = simulations.mean(axis=1)

# Evaluation using RMSE
y_true = data[-15:].values if len(data) >= 15 else data[-len(forecast_arima):].values
arima_rmse = sqrt(mean_squared_error(y_true, forecast_arima[:len(y_true)]))
gbm_rmse = sqrt(mean_squared_error(y_true, forecast_gbm[:len(y_true)]))

# Plotting
plt.figure(figsize=(10,5))
plt.plot(range(len(y_true)), y_true, label='Actual')
plt.plot(range(len(y_true)), forecast_arima[:len(y_true)], label='ARIMA Forecast')
plt.plot(range(len(y_true)), forecast_gbm[:len(y_true)], label='GBM Forecast')
plt.legend()
plt.title(f"ARIMA RMSE: {arima_rmse:.2f} | GBM RMSE: {gbm_rmse:.2f}")
plt.show()
